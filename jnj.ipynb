{
 "cells": [
  {
   "cell_type": "code",
   "execution_count": null,
   "metadata": {},
   "outputs": [],
   "source": [
    "from odd_ml.client import Client, AwsConfig\n",
    "from odd_ml.renderer import IFrameRenderer"
   ]
  },
  {
   "cell_type": "code",
   "execution_count": null,
   "metadata": {},
   "outputs": [],
   "source": [
    "client = Client('http://localhost:8080', AwsConfig(aws_region = 'us-east-1'))\n",
    "renderer = IFrameRenderer(client.platform_url, width=1240, height=780)\n"
   ]
  },
  {
   "cell_type": "code",
   "execution_count": null,
   "metadata": {},
   "outputs": [],
   "source": [
    "# Getting list of registred datasources in our platform\n",
    "ds = client.get_data_sources()\n",
    "ds.show_table()"
   ]
  },
  {
   "cell_type": "code",
   "execution_count": null,
   "metadata": {},
   "outputs": [],
   "source": [
    "# Getting all data_entites chained with 'sagemaker' datasource\n",
    "result = client.search(query=\"dataset\")\n",
    "result.show_table()\n",
    "\n"
   ]
  },
  {
   "cell_type": "code",
   "execution_count": null,
   "metadata": {},
   "outputs": [],
   "source": [
    "entity = client.get_data_entity_by_id(72)\n",
    "input_de = client.get_dataframe(entity)\n",
    "\n",
    "input_de"
   ]
  },
  {
   "cell_type": "code",
   "execution_count": null,
   "metadata": {},
   "outputs": [],
   "source": [
    "entity = client.get_data_entity_by_id(9)\n",
    "df_after_preprocessing = client.get_dataframe(entity)\n",
    "\n",
    "df_after_preprocessing"
   ]
  }
 ],
 "metadata": {
  "interpreter": {
   "hash": "76a40ec5ca49aeb6be06ace5aba37eca984dc86045e83178e15c67f650b31f10"
  },
  "kernelspec": {
   "display_name": "Python 3.8.12 ('note-books-KqFysABi-py3.8')",
   "language": "python",
   "name": "python3"
  },
  "language_info": {
   "codemirror_mode": {
    "name": "ipython",
    "version": 3
   },
   "file_extension": ".py",
   "mimetype": "text/x-python",
   "name": "python",
   "nbconvert_exporter": "python",
   "pygments_lexer": "ipython3",
   "version": "3.9.10"
  },
  "orig_nbformat": 4
 },
 "nbformat": 4,
 "nbformat_minor": 2
}
