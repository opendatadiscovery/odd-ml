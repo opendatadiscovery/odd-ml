{
 "cells": [
  {
   "cell_type": "code",
   "execution_count": null,
   "metadata": {},
   "outputs": [],
   "source": [
    "pip install odd-ml"
   ]
  },
  {
   "cell_type": "code",
   "execution_count": null,
   "metadata": {},
   "outputs": [],
   "source": [
    "from odd_ml.client import Client\n",
    "from odd_ml.domain.aws_config import AwsConfig\n",
    "\n",
    "platform_url = 'http://localhost:8080'\n",
    "aws_config = AwsConfig(_env_file='.env')\n",
    "\n",
    "client = Client(platform_url, aws_config)"
   ]
  },
  {
   "cell_type": "code",
   "execution_count": null,
   "metadata": {},
   "outputs": [],
   "source": [
    "# Getting list of registered datasources in platform\n",
    "data_sources = client.get_data_sources()\n",
    "data_sources.show_table()"
   ]
  },
  {
   "cell_type": "code",
   "execution_count": null,
   "metadata": {},
   "outputs": [],
   "source": [
    "# Getting all data_entities chained with some datasource id and has 'parse' in name\n",
    "parse_job_list = client.search(query=\"parse\", datasource_id=1)\n",
    "parse_job_list.show_table()\n",
    "\n"
   ]
  },
  {
   "cell_type": "code",
   "execution_count": null,
   "metadata": {},
   "outputs": [],
   "source": [
    "# Use some id from table to find data entity\n",
    "parse_job_de = client.get_data_entity_by_id(80)\n",
    "parse_job_de.show_metadata()\n"
   ]
  },
  {
   "cell_type": "code",
   "execution_count": null,
   "metadata": {},
   "outputs": [],
   "source": [
    "# Show left and right relatives of data entity\n",
    "parse_job_de.show_relatives()"
   ]
  },
  {
   "cell_type": "code",
   "execution_count": null,
   "metadata": {},
   "outputs": [],
   "source": [
    "parse_job_de.show_owners()"
   ]
  },
  {
   "cell_type": "code",
   "execution_count": null,
   "metadata": {},
   "outputs": [],
   "source": [
    "entity = client.get_data_entity_by_id(37)\n",
    "client.get_dataframe(entity)"
   ]
  },
  {
   "cell_type": "code",
   "execution_count": null,
   "metadata": {},
   "outputs": [],
   "source": [
    "entity = client.get_data_entity_by_id(81)\n",
    "client.get_dataframe(entity)"
   ]
  },
  {
   "cell_type": "code",
   "execution_count": null,
   "metadata": {},
   "outputs": [],
   "source": [
    "# Show lineage for researching whole pipeline \n",
    "client.show_lineage(81)"
   ]
  }
 ],
 "metadata": {
  "interpreter": {
   "hash": "76a40ec5ca49aeb6be06ace5aba37eca984dc86045e83178e15c67f650b31f10"
  },
  "kernelspec": {
   "display_name": "Python 3.8.12 ('note-books-KqFysABi-py3.8')",
   "language": "python",
   "name": "python3"
  },
  "language_info": {
   "codemirror_mode": {
    "name": "ipython",
    "version": 3
   },
   "file_extension": ".py",
   "mimetype": "text/x-python",
   "name": "python",
   "nbconvert_exporter": "python",
   "pygments_lexer": "ipython3",
   "version": "3.8.12"
  },
  "orig_nbformat": 4
 },
 "nbformat": 4,
 "nbformat_minor": 2
}
