{
 "cells": [
  {
   "cell_type": "code",
   "execution_count": null,
   "metadata": {},
   "outputs": [],
   "source": [
    "from odd_ml.client import Client, AwsConfig\n",
    "from odd_ml.renderer import IFrameRenderer"
   ]
  },
  {
   "cell_type": "code",
   "execution_count": null,
   "metadata": {},
   "outputs": [],
   "source": [
    "client = Client('http://localhost:8080', AwsConfig(_env_file='.env'))\n",
    "renderer = IFrameRenderer(client.platform_url, width=1240, height=780)\n"
   ]
  },
  {
   "cell_type": "code",
   "execution_count": null,
   "metadata": {},
   "outputs": [],
   "source": [
    "# Getting list of registred datasources in our platform\n",
    "ds = client.get_data_sources()\n",
    "ds.show_table()"
   ]
  },
  {
   "cell_type": "code",
   "execution_count": null,
   "metadata": {},
   "outputs": [],
   "source": [
    "# Getting all data_entites chained with 'sg' datasource\n",
    "result = client.search(query=\"parse\", datasource_id=1)\n",
    "result.show_table()\n",
    "\n"
   ]
  },
  {
   "cell_type": "code",
   "execution_count": null,
   "metadata": {},
   "outputs": [],
   "source": [
    "# Use some id from table to find data entity\n",
    "parse_job_de = client.get_data_entity_by_id(80)\n",
    "parse_job_de.show_metadata()\n",
    "parse_job_de.show_relatives()"
   ]
  },
  {
   "cell_type": "code",
   "execution_count": null,
   "metadata": {},
   "outputs": [],
   "source": [
    "entity = client.get_data_entity_by_id(37)\n",
    "client.get_dataframe(entity)"
   ]
  },
  {
   "cell_type": "code",
   "execution_count": null,
   "metadata": {},
   "outputs": [],
   "source": [
    "entity = client.get_data_entity_by_id(81)\n",
    "client.get_dataframe(entity)"
   ]
  }
 ],
 "metadata": {
  "interpreter": {
   "hash": "76a40ec5ca49aeb6be06ace5aba37eca984dc86045e83178e15c67f650b31f10"
  },
  "kernelspec": {
   "display_name": "Python 3.8.12 ('note-books-KqFysABi-py3.8')",
   "language": "python",
   "name": "python3"
  },
  "language_info": {
   "codemirror_mode": {
    "name": "ipython",
    "version": 3
   },
   "file_extension": ".py",
   "mimetype": "text/x-python",
   "name": "python",
   "nbconvert_exporter": "python",
   "pygments_lexer": "ipython3",
   "version": "3.9.10"
  },
  "orig_nbformat": 4
 },
 "nbformat": 4,
 "nbformat_minor": 2
}
